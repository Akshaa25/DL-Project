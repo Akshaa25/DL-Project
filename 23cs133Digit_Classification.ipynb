{
  "nbformat": 4,
  "nbformat_minor": 0,
  "metadata": {
    "colab": {
      "provenance": []
    },
    "kernelspec": {
      "name": "python3",
      "display_name": "Python 3"
    },
    "language_info": {
      "name": "python"
    }
  },
  "cells": [
    {
      "cell_type": "code",
      "execution_count": null,
      "metadata": {
        "id": "xVhFb8n9lQL1"
      },
      "outputs": [],
      "source": [
        "import tensorflow as tf\n",
        "from tensorflow.keras.datasets import mnist\n",
        "from tensorflow.keras.models import Sequential\n",
        "from tensorflow.keras.layers import Dense, Flatten\n",
        "from tensorflow.keras.utils import to_categorical\n",
        "import time"
      ]
    },
    {
      "cell_type": "code",
      "source": [
        "(x_train, y_train), (x_test, y_test) = mnist.load_data()"
      ],
      "metadata": {
        "colab": {
          "base_uri": "https://localhost:8080/"
        },
        "id": "ne5Qp2tQl9QP",
        "outputId": "d83f9be1-9d65-4184-8005-0b891348bba0"
      },
      "execution_count": null,
      "outputs": [
        {
          "output_type": "stream",
          "name": "stdout",
          "text": [
            "Downloading data from https://storage.googleapis.com/tensorflow/tf-keras-datasets/mnist.npz\n",
            "\u001b[1m11490434/11490434\u001b[0m \u001b[32m━━━━━━━━━━━━━━━━━━━━\u001b[0m\u001b[37m\u001b[0m \u001b[1m1s\u001b[0m 0us/step\n"
          ]
        }
      ]
    },
    {
      "cell_type": "code",
      "source": [
        "x_train, x_test = x_train / 255.0, x_test / 255.0"
      ],
      "metadata": {
        "id": "e5HRCgxmmBEg"
      },
      "execution_count": null,
      "outputs": []
    },
    {
      "cell_type": "code",
      "source": [
        "y_train = to_categorical(y_train, 10)\n",
        "y_test = to_categorical(y_test, 10)"
      ],
      "metadata": {
        "id": "bkUpWAnPmEHk"
      },
      "execution_count": null,
      "outputs": []
    },
    {
      "cell_type": "code",
      "source": [
        "from tensorflow.keras import Input"
      ],
      "metadata": {
        "id": "Rmdg3YCqnIrX"
      },
      "execution_count": null,
      "outputs": []
    },
    {
      "cell_type": "code",
      "source": [
        "nn_model = Sequential([\n",
        "    Input(shape=(28,28)),\n",
        "    Flatten(),\n",
        "    Dense(128, activation='relu'),\n",
        "    Dense(64, activation='relu'),\n",
        "    Dense(10, activation='softmax')\n",
        "])"
      ],
      "metadata": {
        "id": "5-aD_wXPnNGD"
      },
      "execution_count": null,
      "outputs": []
    },
    {
      "cell_type": "code",
      "source": [
        "nn_model.compile(optimizer='adam', loss='categorical_crossentropy', metrics=['accuracy'])"
      ],
      "metadata": {
        "id": "2ed0WMHnnWpH"
      },
      "execution_count": null,
      "outputs": []
    },
    {
      "cell_type": "code",
      "source": [
        "start = time.time()\n",
        "nn_model.fit(x_train, y_train, epochs=5, batch_size=128, validation_split=0.1, verbose=2)\n",
        "nn_time = time.time() - start"
      ],
      "metadata": {
        "colab": {
          "base_uri": "https://localhost:8080/"
        },
        "id": "JfWK_wyHnc_f",
        "outputId": "5d1b73b6-f74a-4984-e799-4df4665dbdd4"
      },
      "execution_count": null,
      "outputs": [
        {
          "output_type": "stream",
          "name": "stdout",
          "text": [
            "Epoch 1/5\n",
            "422/422 - 4s - 10ms/step - accuracy: 0.8997 - loss: 0.3606 - val_accuracy: 0.9562 - val_loss: 0.1581\n",
            "Epoch 2/5\n",
            "422/422 - 2s - 5ms/step - accuracy: 0.9554 - loss: 0.1506 - val_accuracy: 0.9702 - val_loss: 0.1026\n",
            "Epoch 3/5\n",
            "422/422 - 3s - 6ms/step - accuracy: 0.9681 - loss: 0.1042 - val_accuracy: 0.9732 - val_loss: 0.0865\n",
            "Epoch 4/5\n",
            "422/422 - 3s - 6ms/step - accuracy: 0.9759 - loss: 0.0774 - val_accuracy: 0.9747 - val_loss: 0.0883\n",
            "Epoch 5/5\n",
            "422/422 - 3s - 8ms/step - accuracy: 0.9806 - loss: 0.0628 - val_accuracy: 0.9758 - val_loss: 0.0796\n"
          ]
        }
      ]
    },
    {
      "cell_type": "code",
      "source": [
        "nn_loss, nn_acc = nn_model.evaluate(x_test, y_test, verbose=0)\n",
        "print(f\"NN Accuracy: {nn_acc:.4f}, Time: {nn_time:.2f}s, Params: {nn_model.count_params()}\")"
      ],
      "metadata": {
        "colab": {
          "base_uri": "https://localhost:8080/"
        },
        "id": "dI-WdE5mns-A",
        "outputId": "81eadea2-2841-47b4-c0bb-77df93b58f9a"
      },
      "execution_count": null,
      "outputs": [
        {
          "output_type": "stream",
          "name": "stdout",
          "text": [
            "NN Accuracy: 0.9734, Time: 16.18s, Params: 109386\n"
          ]
        }
      ]
    },
    {
      "cell_type": "code",
      "source": [
        "from tensorflow.keras.layers import Conv2D, MaxPooling2D"
      ],
      "metadata": {
        "id": "pRPydI_EnyJN"
      },
      "execution_count": null,
      "outputs": []
    },
    {
      "cell_type": "code",
      "source": [
        "x_train_cnn = x_train.reshape(-1, 28, 28, 1)\n",
        "x_test_cnn = x_test.reshape(-1, 28, 28, 1)"
      ],
      "metadata": {
        "id": "o16g2mUun6t6"
      },
      "execution_count": null,
      "outputs": []
    },
    {
      "cell_type": "code",
      "source": [
        "from tensorflow.keras import Input"
      ],
      "metadata": {
        "id": "33JCT15Voqjd"
      },
      "execution_count": null,
      "outputs": []
    },
    {
      "cell_type": "code",
      "source": [
        "cnn_model = Sequential([\n",
        "    Input(shape=(28,28,1)),\n",
        "    Conv2D(32, (3,3), activation='relu'),\n",
        "    Conv2D(64, (3,3), activation='relu'),\n",
        "    MaxPooling2D(pool_size=(2,2)),\n",
        "    Flatten(),\n",
        "    Dense(128, activation='relu'),\n",
        "    Dense(10, activation='softmax')\n",
        "])"
      ],
      "metadata": {
        "id": "wnvvrRbDouEt"
      },
      "execution_count": null,
      "outputs": []
    },
    {
      "cell_type": "code",
      "source": [
        "cnn_model.compile(optimizer='adam', loss='categorical_crossentropy', metrics=['accuracy'])"
      ],
      "metadata": {
        "id": "9R31TF1epPta"
      },
      "execution_count": null,
      "outputs": []
    },
    {
      "cell_type": "code",
      "source": [
        "start = time.time()\n",
        "cnn_model.fit(x_train_cnn, y_train, epochs=5, batch_size=128, validation_split=0.1, verbose=2)\n",
        "cnn_time = time.time() - start"
      ],
      "metadata": {
        "colab": {
          "base_uri": "https://localhost:8080/"
        },
        "id": "oXLxyn4mp7TV",
        "outputId": "c3dba920-5dfd-47ed-c886-0505f7ad5697"
      },
      "execution_count": null,
      "outputs": [
        {
          "output_type": "stream",
          "name": "stdout",
          "text": [
            "Epoch 1/5\n",
            "422/422 - 127s - 300ms/step - accuracy: 0.9827 - loss: 0.0567 - val_accuracy: 0.9877 - val_loss: 0.0461\n",
            "Epoch 2/5\n",
            "422/422 - 124s - 295ms/step - accuracy: 0.9901 - loss: 0.0312 - val_accuracy: 0.9882 - val_loss: 0.0471\n",
            "Epoch 3/5\n",
            "422/422 - 142s - 337ms/step - accuracy: 0.9933 - loss: 0.0198 - val_accuracy: 0.9905 - val_loss: 0.0357\n",
            "Epoch 4/5\n",
            "422/422 - 124s - 293ms/step - accuracy: 0.9953 - loss: 0.0139 - val_accuracy: 0.9903 - val_loss: 0.0407\n",
            "Epoch 5/5\n",
            "422/422 - 144s - 341ms/step - accuracy: 0.9974 - loss: 0.0082 - val_accuracy: 0.9893 - val_loss: 0.0434\n"
          ]
        }
      ]
    },
    {
      "cell_type": "code",
      "source": [
        "start = time.time()\n",
        "cnn_loss, cnn_acc = cnn_model.evaluate(x_test_cnn, y_test, verbose=0)\n",
        "cnn_time = time.time() - start\n",
        "print(f\"CNN Accuracy: {cnn_acc:.4f}, Time: {cnn_time:.2f}s, Params: {cnn_model.count_params()}\")"
      ],
      "metadata": {
        "colab": {
          "base_uri": "https://localhost:8080/"
        },
        "id": "EahndvCPsT-I",
        "outputId": "90330009-1ace-4d1d-9176-98395e1aa3fa"
      },
      "execution_count": null,
      "outputs": [
        {
          "output_type": "stream",
          "name": "stdout",
          "text": [
            "CNN Accuracy: 0.9899, Time: 10.32s, Params: 1199882\n"
          ]
        }
      ]
    },
    {
      "cell_type": "code",
      "source": [
        "import seaborn as sns\n",
        "import matplotlib.pyplot as plt\n",
        "import pandas as pd\n",
        "\n",
        "nn_loss, nn_acc = nn_model.evaluate(x_test, y_test, verbose=0)\n",
        "cnn_loss, cnn_acc = cnn_model.evaluate(x_test_cnn, y_test, verbose=0)\n",
        "\n",
        "results = pd.DataFrame({\n",
        "    \"Model\": [\"Neural Network\", \"Convolutional Neural Network\"],\n",
        "    \"Accuracy\": [nn_acc, cnn_acc],\n",
        "    \"Loss\": [nn_loss, cnn_loss]\n",
        "})\n",
        "\n",
        "plt.figure(figsize=(8,6))\n",
        "sns.barplot(\n",
        "    data=results.melt(id_vars=\"Model\", var_name=\"Metric\", value_name=\"Score\"),\n",
        "    x=\"Metric\", y=\"Score\", hue=\"Model\", palette=\"husl\"\n",
        ")\n",
        "plt.title(\"Performance Comparison: NN vs CNN\", fontsize=14)\n",
        "plt.ylabel(\"Score\")\n",
        "plt.xlabel(\"Metric\")\n",
        "plt.legend(title=\"Model\")\n",
        "plt.show()\n",
        "\n",
        "plt.figure(figsize=(6,4))\n",
        "sns.heatmap(results.set_index(\"Model\"), annot=True, cmap=\"YlGnBu\", fmt=\".3f\", cbar=True)\n",
        "plt.title(\"Heatmap: NN vs CNN Metrics\", fontsize=13)\n",
        "plt.show()"
      ],
      "metadata": {
        "colab": {
          "base_uri": "https://localhost:8080/",
          "height": 939
        },
        "id": "uZP8GhnvQabD",
        "outputId": "1af34ecc-7a3d-43d6-8849-00414032fab7"
      },
      "execution_count": null,
      "outputs": [
        {
          "output_type": "display_data",
          "data": {
            "text/plain": [
              "<Figure size 800x600 with 1 Axes>"
            ],
            "image/png": "[encoded data removed]"
          },
          "metadata": {}
        },
        {
          "output_type": "display_data",
          "data": {
            "text/plain": [
              "<Figure size 600x400 with 2 Axes>"
            ],
            "image/png": "[encoded data removed]"
          },
          "metadata": {}
        }
      ]
    }
  ]
}